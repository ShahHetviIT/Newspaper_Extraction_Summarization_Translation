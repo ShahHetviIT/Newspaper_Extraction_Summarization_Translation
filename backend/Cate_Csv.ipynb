{
 "cells": [
  {
   "cell_type": "code",
   "execution_count": 17,
   "id": "f8890ed4",
   "metadata": {},
   "outputs": [
    {
     "name": "stdout",
     "output_type": "stream",
     "text": [
      "Category 'POLITICS' - Rows: 35602\n",
      "Category 'ENTERTAINMENT' - Rows: 17362\n",
      "Category 'WORLD NEWS' - Rows: 3299\n",
      "Category 'SPORTS' - Rows: 5077\n",
      "Category 'CRIME' - Rows: 3562\n",
      "Category 'ENVIRONMENT' - Rows: 1444\n",
      "Category 'FOOD & DRINK' - Rows: 6340\n",
      "Category 'STYLE & BEAUTY' - Rows: 9814\n",
      "Category 'PARENTING' - Rows: 8791\n",
      "Category 'COMEDY' - Rows: 5400\n",
      "Category 'CULTURE & ARTS' - Rows: 1074\n",
      "Category 'BUSINESS' - Rows: 5992\n",
      "Category 'SCIENCE' - Rows: 2206\n",
      "Category 'TECH' - Rows: 2104\n",
      "Category 'EDUCATION' - Rows: 1014\n",
      "Category 'TRAVEL' - Rows: 9900\n",
      "Category 'RELIGION' - Rows: 2577\n",
      "Category 'COLLEGE' - Rows: 1144\n"
     ]
    }
   ],
   "source": [
    "import pandas as pd\n",
    "\n",
    "# Load the dataset from CSV\n",
    "df = pd.read_csv('News_Dataset.csv')\n",
    "\n",
    "# Ensure case sensitivity and remove extra spaces from the category column\n",
    "df['category'] = df['category'].str.strip()\n",
    "\n",
    "# List of categories to filter (convert them to uppercase to match your dataset)\n",
    "categories = [\n",
    "    'politics', 'entertainment', 'World news', 'sports', 'crime', 'environment', \n",
    "    'food & drink', 'style & beauty', 'parenting', 'comedy', 'culture & arts', \n",
    "    'business', 'science', 'tech', 'education', 'travel', \n",
    "    'religion', 'college'\n",
    "]\n",
    "\n",
    "# Convert categories to uppercase to match the dataset\n",
    "categories = [cat.upper() for cat in categories]\n",
    "\n",
    "# Iterate over each category, filter the dataset, and save 500 samples to a new CSV file\n",
    "for category in categories:\n",
    "    # Filter the dataframe for the specific category (case-sensitive)\n",
    "    category_df = df[df['category'] == category]\n",
    "    \n",
    "    # Debugging: Print the number of rows in the filtered dataframe\n",
    "    print(f\"Category '{category}' - Rows: {len(category_df)}\")\n",
    "    \n",
    "    if len(category_df) > 0:\n",
    "        # Get only 500 samples (or less if there are not enough entries)\n",
    "        category_sample = category_df.sample(n=5000, random_state=42) if len(category_df) >= 5000 else category_df\n",
    "        \n",
    "        # Save to a new CSV file, with case-sensitive category names in the file name\n",
    "        category_sample.to_csv(f'{category}_news.csv', index=False)\n",
    "    else:\n",
    "        print(f\"No data found for category: {category}\")\n"
   ]
  },
  {
   "cell_type": "code",
   "execution_count": 18,
   "id": "40b5a410",
   "metadata": {},
   "outputs": [
    {
     "name": "stdout",
     "output_type": "stream",
     "text": [
      "Combined dataset has 63424 rows.\n"
     ]
    }
   ],
   "source": [
    "import pandas as pd\n",
    "import glob\n",
    "\n",
    "# List of categories to ensure we're reading the correct files\n",
    "categories = [\n",
    "    'politics', 'entertainment', 'World news', 'sports', 'crime', 'environment', \n",
    "    'food & drink', 'style & beauty', 'parenting', 'comedy', 'culture & arts', \n",
    "    'business', 'science', 'tech', 'education', 'travel', \n",
    "    'religion', 'college'\n",
    "]\n",
    "\n",
    "# Convert categories to uppercase to match the filenames\n",
    "categories = [cat.upper() for cat in categories]\n",
    "\n",
    "# List to store all the dataframes\n",
    "dataframes = []\n",
    "\n",
    "# Iterate over each category to load its corresponding CSV file\n",
    "for category in categories:\n",
    "    try:\n",
    "        # Read the CSV file for the category\n",
    "        df = pd.read_csv(f'{category}_news.csv')\n",
    "        dataframes.append(df)\n",
    "    except FileNotFoundError:\n",
    "        print(f\"CSV file for category '{category}' not found!\")\n",
    "\n",
    "# Concatenate all dataframes into one\n",
    "combined_df = pd.concat(dataframes, ignore_index=True)\n",
    "\n",
    "# Save the combined dataframe to a new CSV file\n",
    "combined_df.to_csv('News_Data_Final.csv', index=False)\n",
    "\n",
    "print(f\"Combined dataset has {len(combined_df)} rows.\")\n"
   ]
  },
  {
   "cell_type": "code",
   "execution_count": null,
   "id": "92324d0d",
   "metadata": {},
   "outputs": [],
   "source": []
  }
 ],
 "metadata": {
  "kernelspec": {
   "display_name": "Python 3 (ipykernel)",
   "language": "python",
   "name": "python3"
  },
  "language_info": {
   "codemirror_mode": {
    "name": "ipython",
    "version": 3
   },
   "file_extension": ".py",
   "mimetype": "text/x-python",
   "name": "python",
   "nbconvert_exporter": "python",
   "pygments_lexer": "ipython3",
   "version": "3.11.5"
  }
 },
 "nbformat": 4,
 "nbformat_minor": 5
}
