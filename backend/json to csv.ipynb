{
 "cells": [
  {
   "cell_type": "code",
   "execution_count": 2,
   "id": "0cfb55b7",
   "metadata": {},
   "outputs": [],
   "source": [
    "# import pandas as pd\n",
    "\n",
    "# # Load JSON file\n",
    "# json_data = pd.read_json('News_Category_Dataset_v3.json')\n",
    "\n",
    "# # Convert to CSV\n",
    "# json_data.to_csv('News_Dataset.csv', index=False)\n",
    "\n",
    "import json\n",
    "import pandas as pd\n",
    "\n",
    "# Read JSON file\n",
    "with open('News_Category_Dataset_v3.json') as f:\n",
    "    json_data = [json.loads(line) for line in f]\n",
    "\n",
    "# Convert to DataFrame\n",
    "df = pd.DataFrame(json_data)\n",
    "\n",
    "# Convert to CSV\n",
    "df.to_csv('News_Dataset.csv', index=False)\n"
   ]
  },
  {
   "cell_type": "code",
   "execution_count": null,
   "id": "d1f63a34",
   "metadata": {},
   "outputs": [],
   "source": []
  }
 ],
 "metadata": {
  "kernelspec": {
   "display_name": "Python 3 (ipykernel)",
   "language": "python",
   "name": "python3"
  },
  "language_info": {
   "codemirror_mode": {
    "name": "ipython",
    "version": 3
   },
   "file_extension": ".py",
   "mimetype": "text/x-python",
   "name": "python",
   "nbconvert_exporter": "python",
   "pygments_lexer": "ipython3",
   "version": "3.11.5"
  }
 },
 "nbformat": 4,
 "nbformat_minor": 5
}
