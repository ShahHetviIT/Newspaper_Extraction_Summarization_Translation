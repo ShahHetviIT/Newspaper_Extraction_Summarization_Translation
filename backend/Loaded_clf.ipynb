{
 "cells": [
  {
   "cell_type": "code",
   "execution_count": 1,
   "id": "6172d055",
   "metadata": {},
   "outputs": [],
   "source": [
    "import pickle\n",
    "clf_loaded_model = pickle.load(open('D:\\\\OneDrive\\\\Desktop\\\\Project_2\\\\clf_model','rb'))"
   ]
  },
  {
   "cell_type": "code",
   "execution_count": 2,
   "id": "a28b149f",
   "metadata": {},
   "outputs": [],
   "source": [
    "def predict_categories(docs):\n",
    "    \"\"\"\n",
    "    Predict the categories for a list of news articles.\n",
    "\n",
    "    Parameters:\n",
    "    docs (list): List of news articles as strings.\n",
    "\n",
    "    Returns:\n",
    "    list: List of predicted categories.\n",
    "    \"\"\"\n",
    "    predicted = clf_loaded_model.predict(docs)\n",
    "    return predicted.tolist()"
   ]
  },
  {
   "cell_type": "code",
   "execution_count": 3,
   "id": "71fab9ad",
   "metadata": {},
   "outputs": [],
   "source": [
    "def filter_news_by_category(docs, categories, selected_category):\n",
    "    \"\"\"\n",
    "    Filter and display news articles based on the selected category.\n",
    "\n",
    "    Parameters:\n",
    "    docs (list): List of news articles as strings.\n",
    "    categories (list): List of predicted categories corresponding to the docs.\n",
    "    selected_category (str): The category to filter news articles by.\n",
    "\n",
    "    Returns:\n",
    "    list: List of news articles belonging to the selected category.\n",
    "    \"\"\"\n",
    "    filtered_news = [doc for doc, category in zip(docs, categories) if category == selected_category]\n",
    "    return filtered_news\n"
   ]
  },
  {
   "cell_type": "code",
   "execution_count": null,
   "id": "3c082a44",
   "metadata": {},
   "outputs": [],
   "source": []
  }
 ],
 "metadata": {
  "kernelspec": {
   "display_name": "Python 3 (ipykernel)",
   "language": "python",
   "name": "python3"
  },
  "language_info": {
   "codemirror_mode": {
    "name": "ipython",
    "version": 3
   },
   "file_extension": ".py",
   "mimetype": "text/x-python",
   "name": "python",
   "nbconvert_exporter": "python",
   "pygments_lexer": "ipython3",
   "version": "3.12.6"
  }
 },
 "nbformat": 4,
 "nbformat_minor": 5
}
